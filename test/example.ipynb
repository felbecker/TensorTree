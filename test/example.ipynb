{
 "cells": [
  {
   "cell_type": "code",
   "execution_count": null,
   "metadata": {},
   "outputs": [
    {
     "data": {
      "text/plain": [
       "<tf.Tensor: shape=(1, 3), dtype=float32, numpy=array([[-7.605143 , -5.7625747, -7.249683 ]], dtype=float32)>"
      ]
     },
     "execution_count": 4,
     "metadata": {},
     "output_type": "execute_result"
    }
   ],
   "source": [
    "import sys\n",
    "\n",
    "sys.path.append(\"../\")\n",
    "\n",
    "import tensortree\n",
    "from io import StringIO\n",
    "import numpy as np\n",
    "\n",
    "tensortree.set_backend(\"tensorflow\")\n",
    "\n",
    "# parse a tree \n",
    "handle = StringIO(\"(A:0.1,B:0.2,(C:0.3,D:0.4):0.5);\")\n",
    "tree = tensortree.TreeHandler.read(handle)\n",
    "\n",
    "# leaves with final shape (n, 1, L, d)\n",
    "leaves = np.array([[0,2,3], \n",
    "                   [1,1,0], \n",
    "                   [2,1,0], \n",
    "                   [3,1,2]])\n",
    "leaves = np.eye(4)[leaves]\n",
    "leaves = leaves[:,np.newaxis] # model dimension, here we'll use a single model\n",
    "\n",
    "leaf_names = ['A', 'B', 'C', 'D'] \n",
    "\n",
    "# use a rate matrix, here Jukes-Cantor, shape (1, d, d)\n",
    "rate_matrix = np.array([[[-1, 1./3, 1./3, 1./3], \n",
    "                         [1./3, -1, 1./3, 1./3], \n",
    "                         [1./3, 1./3, -1, 1./3], \n",
    "                         [1./3, 1./3, 1./3, -1]]])\n",
    "\n",
    "leaves = leaves.astype(tensortree.util.default_dtype)\n",
    "rate_matrix = rate_matrix.astype(tensortree.util.default_dtype)\n",
    "\n",
    "# compute the loglikelihood log P(leaves | tree)\n",
    "L = tensortree.model.loglik(leaves, \n",
    "                            tree, \n",
    "                            rate_matrix, \n",
    "                            tree.branch_lengths,\n",
    "                            equilibrium_logits=np.log([[1./4, 1./4, 1./4, 1./4]]),\n",
    "                            leaf_names=leaf_names,\n",
    "                            leaves_are_probabilities=True)\n",
    "\n",
    "L"
   ]
  },
  {
   "cell_type": "code",
   "execution_count": 7,
   "metadata": {},
   "outputs": [
    {
     "data": {
      "text/plain": [
       "<tf.Tensor: shape=(2, 1, 3, 4), dtype=float32, numpy=\n",
       "array([[[[0.15933783, 0.09937008, 0.42822528, 0.31306723],\n",
       "         [0.0074275 , 0.9599043 , 0.02524071, 0.0074275 ],\n",
       "         [0.63605314, 0.03286138, 0.21941343, 0.11167206]]],\n",
       "\n",
       "\n",
       "       [[[0.60789233, 0.29487458, 0.05354059, 0.04369259],\n",
       "         [0.01026389, 0.68136317, 0.2981091 , 0.01026389],\n",
       "         [0.52866733, 0.01466862, 0.03062199, 0.42604187]]]],\n",
       "      dtype=float32)>"
      ]
     },
     "execution_count": 7,
     "metadata": {},
     "output_type": "execute_result"
    }
   ],
   "source": [
    "# compute marginal distributions at all ancestral nodes, i.e. P(ancestral_node | leaves, tree) \n",
    "M = tensortree.model.compute_ancestral_marginals(leaves, \n",
    "                                                tree, \n",
    "                                                rate_matrix, \n",
    "                                                tree.branch_lengths,\n",
    "                                                equilibrium_logits=np.log([[1./4, 1./4, 1./4, 1./4]]),\n",
    "                                                leaf_names=leaf_names,\n",
    "                                                leaves_are_probabilities=True,\n",
    "                                                return_probabilities=True)\n",
    "M"
   ]
  }
 ],
 "metadata": {
  "kernelspec": {
   "display_name": "learnMSAdev",
   "language": "python",
   "name": "python3"
  },
  "language_info": {
   "codemirror_mode": {
    "name": "ipython",
    "version": 3
   },
   "file_extension": ".py",
   "mimetype": "text/x-python",
   "name": "python",
   "nbconvert_exporter": "python",
   "pygments_lexer": "ipython3",
   "version": "3.12.7"
  }
 },
 "nbformat": 4,
 "nbformat_minor": 2
}
